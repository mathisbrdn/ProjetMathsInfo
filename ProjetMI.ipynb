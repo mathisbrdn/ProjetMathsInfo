{
 "cells": [
  {
   "cell_type": "markdown",
   "metadata": {},
   "source": [
    "# Comptre rendu projet Maths/Info\n",
    "### Clement Desroches & Mathis Bourdin\n",
    "\n",
    "    \n",
    "L'objectif de ce projet est de rédiger un code Python permettant de calculer les lignes de niveau d'une fonction de deux variables réelles et à valeurs réelles. Les fonctions seront supposées continûment diffrentiables sur les domaines de définition."
   ]
  },
  {
   "cell_type": "markdown",
   "metadata": {},
   "source": [
    "Afin de réaliser ce projet nous aurons besoin de plusieurs biblihotèques. Nous commencons donc par les importer :\n",
    "\n",
    "    - Numpy : Pour ces fonctions mathématiques et sa classe nparray\n",
    "    - Autograd et sa partie numpy : Pour determiner le gradient des fonctions étudiées.\n",
    "    - Numpy.linalg : Pour sa fonction norm\n",
    "    - Matplotlib.pyplot : Pour afficher les resultats"
   ]
  },
  {
   "cell_type": "code",
   "execution_count": null,
   "metadata": {},
   "outputs": [],
   "source": [
    "import numpy as np\n",
    "from autograd import numpy as np\n",
    "import autograd\n",
    "from numpy.linalg import norm\n",
    "import matplotlib.pyplot as plt"
   ]
  },
  {
   "cell_type": "markdown",
   "metadata": {},
   "source": [
    "Pour commencer ce projet, nous étudions dans un premier temps les fonctions sur le carré unité. Il est nécessaire de determiner un point de départ pour le calcul de la ligne de niveau. Nous commencons donc par ecrire une fonction find_seed retournant un point sur l'arête gauche sur ce carré qui appartient à la ligne de niveau recherchée. \n",
    "\n",
    "Pour déterminer ce point nous utilisons une dichotomie, un algorithme simple ayant peu de contraintes et ayant un convergence relativement rapide si on la compare à sa simplicité et à sa fiabilité. Nous condisèrerons dans ce projet que pour une fonction f, la ligne de niveau de valeur c à un point d'intersection avec l'arête gauche du carré unité si g(0,0) <= c <= g(0,1) ou g(0,0) >= c >= g(0,1). Si cette condtion n'est pas vérifiée nous renvoyons la valeur **None**.\n",
    "\n",
    "Voici la fonction find_seed :"
   ]
  },
  {
   "cell_type": "code",
   "execution_count": null,
   "metadata": {},
   "outputs": [],
   "source": [
    "def find_seed(g, c=0, eps=2**(-26)):\n",
    "    #Conditions aren't verified.\n",
    "    if not(g(0,0) <= c <= g(0,1) or g(0,0) >= c >= g(0,1)):\n",
    "        return None\n",
    "    \n",
    "    a, b = 0, 1\n",
    "    f = lambda x: g(0,x) - c\n",
    "    while b-a > eps:\n",
    "        d = (a+b)/2\n",
    "        if f(d)*f(a) > 0:\n",
    "            a = d\n",
    "        else :\n",
    "            b = d\n",
    "    return (a+b)/2"
   ]
  },
  {
   "cell_type": "markdown",
   "metadata": {},
   "source": [
    "Verifions que celle ci fonctionne :"
   ]
  },
  {
   "cell_type": "code",
   "execution_count": null,
   "metadata": {},
   "outputs": [],
   "source": [
    "y = find_seed(lambda x, y: x**2 + y**2, c=0.5)\n",
    "print(y**2)"
   ]
  },
  {
   "cell_type": "markdown",
   "metadata": {},
   "source": [
    "Le résultat de find_seed est satisfaisant.\n",
    "\n",
    "Maintenant que nous avons le point de départ de notre ligne de niveau, il faut determiner la suite de cette ligne.\n",
    "\n",
    "Une méthode apparaissant immédiatement est de suivre un vecteur tangent à cette ligne de niveau. On sait que le gradient est toujours orthogonal aux lignes de niveau. Il suffit alors de déterminer le gradient à l'aide d'autograd, de prend l'orthogonal et de suivre ce vecteur. Aucun test sur le sens du vecteur n'est effectué, nous cherchons juste à voir si la méthode est viable ou non.\n",
    "\n",
    "Le dernier point est retiré des listes est retiré car il n'appartient plus au carré unité.\n",
    "\n",
    "Voici cette fonction (ici nommée simple_contour_naif) et un test effectué avec :"
   ]
  },
  {
   "cell_type": "code",
   "execution_count": null,
   "metadata": {},
   "outputs": [],
   "source": [
    "def simple_contour_naif(f, c=0.0, delta=0.01):\n",
    "    fc = lambda x,y: f(x,y) - c\n",
    "    eps=2**(-26)\n",
    "    def grad_f(x,y):\n",
    "        g = autograd.grad\n",
    "        return np.r_[g(fc,0)(x,y),g(fc,1)(x,y)]\n",
    "    lx = [0.]\n",
    "    ly = [find_seed(fc,0)]\n",
    "    if ly[-1] == None:\n",
    "        return [], []\n",
    "    while 0<=lx[-1]<=1 and 0<=ly[-1]<=1:\n",
    "        grad = grad_f(lx[-1],ly[-1])\n",
    "        orth = np.array([grad[1],-1*grad[0]])\n",
    "        grad *= delta/norm(grad)\n",
    "        orth *= delta/norm(orth)\n",
    "\n",
    "        lx.append(lx[-1]+orth[0])\n",
    "        ly.append(ly[-1]+orth[1])\n",
    "    return lx[:-1], ly[:-1]"
   ]
  },
  {
   "cell_type": "code",
   "execution_count": null,
   "metadata": {},
   "outputs": [],
   "source": [
    "q,s = simple_contour_naif(lambda x,y: (x**2+y**2)**0.5, c = 0.5)\n",
    "fig, ax = plt.subplots(figsize=(4,4))\n",
    "ax.plot(q[:],s[:])\n",
    "phi = np.linspace(0,np.pi/2,201)\n",
    "ax.plot([0.5*np.cos(p) for p in phi], [0.5*np.sin(p) for p in phi])"
   ]
  },
  {
   "cell_type": "markdown",
   "metadata": {},
   "source": [
    "On remarque un ecart entre les deux courbes qui semble croissant avec le nombre de déplacement. ce résultat n'est pas surprenant. L'erreur n'etant pas corrigée, celle ci grandit au fur et à mesure des itérations.\n",
    "\n",
    "Nous avons donc décidé de rédiger une nouvelle version de cette fonction. Celle ci effectue une correction de l'erreur à chaque itération à l'aide d'une dichotomie angulaire. On calcul de vecteur tangent de la meme manière en le normalisant au pas de déplacement. On cherche ensuite un nouveau vecteur déplacement en faisant varier son angle par rapport au vecteur initial avec cette dichotomie. Ainsi l'erreur est corrigée a chaque itération. Cela permet de réduire en théorie sa croissance.\n",
    "\n",
    "Il existe peut être des test plus intelligents sur le sens du vecteur deplacement (par exemple un unique test en début de code) mais cela nous assure pleinement du bon sens de ce vecteur.\n",
    "\n",
    "Voici cette fonction et un test effectué :"
   ]
  },
  {
   "cell_type": "code",
   "execution_count": null,
   "metadata": {},
   "outputs": [],
   "source": [
    "def simple_contour(f, c=0.0, delta=0.01):\n",
    "    fc = lambda x,y: f(x,y) - c\n",
    "    eps=2**(-26)\n",
    "    def grad_f(x,y):\n",
    "        g = autograd.grad\n",
    "        return np.r_[g(fc,0)(x,y),g(fc,1)(x,y)]\n",
    "    lx = [0.]\n",
    "    ly = [find_seed(fc,0)]\n",
    "    if ly[-1] == None:\n",
    "        return [], []\n",
    "    while 0<=lx[-1]<=1 and 0<=ly[-1]<=1:\n",
    "        grad = grad_f(lx[-1],ly[-1])\n",
    "        orth = np.array([grad[1],-1*grad[0]])\n",
    "        grad *= delta/norm(grad)\n",
    "        orth *= delta/norm(orth)\n",
    "        if len(lx)==1 and orth[0]<0:\n",
    "            orth *= -1\n",
    "        if len(lx)>1 and np.dot(orth,np.array([lx[-1]-lx[-2],ly[-1]-ly[-2]])) < 0:\n",
    "            orth *= -1\n",
    "        fdic = lambda phi: np.cos(phi)*grad + np.sin(phi)*orth\n",
    "        fphi = lambda phi: fc(lx[-1]+fdic(phi)[0],ly[-1]+fdic(phi)[1])\n",
    "        a, b, d = 0, np.pi, None\n",
    "        while b-a > eps:\n",
    "            d = (a+b)/2\n",
    "            if fphi(a)*fphi(d) > 0:\n",
    "                a = d\n",
    "            else:\n",
    "                b = d\n",
    "        v = fdic(d)\n",
    "        lx.append(lx[-1]+v[0])\n",
    "        ly.append(ly[-1]+v[1])\n",
    "    return lx[:-1], ly[:-1]\n"
   ]
  },
  {
   "cell_type": "code",
   "execution_count": null,
   "metadata": {},
   "outputs": [],
   "source": [
    "q,s = simple_contour(lambda x,y: (x**2+y**2)**0.5, c = 0.5)\n",
    "print(abs(q[-1]-0.5))\n",
    "fig, ax = plt.subplots(figsize=(4,4))\n",
    "ax.plot(q[:],s[:])\n",
    "phi = np.linspace(0,np.pi/2,201)\n",
    "ax.plot([0.5*np.cos(p) for p in phi], [0.5*np.sin(p) for p in phi])"
   ]
  },
  {
   "cell_type": "markdown",
   "metadata": {},
   "source": [
    "Les deux courbes sont confondues ici sur l'image et l'erreur en fin d'itération est d'environ 3e-05. Ce résultat est très acceptable et le code s'éxècute rapidement. Cette fonction semble donc une bonne réponse au problème posé.\n",
    "\n",
    "La fonction contour est celle fournie sur le Discourse sans modification.\n",
    "\n",
    "Le test final de ce projet est le même que founit en exemple du projet."
   ]
  },
  {
   "cell_type": "code",
   "execution_count": null,
   "metadata": {},
   "outputs": [],
   "source": [
    "# Rotators\n",
    "# ------------------------------------------------------------------------------\n",
    "LEFT, UP, RIGHT, DOWN = 0, 1, 2, 3  # clockwise\n",
    "\n",
    "\n",
    "def rotate_direction(direction, n=1):\n",
    "    return (direction + n) % 4\n",
    "\n",
    "\n",
    "def rotate(x, y, n=1):\n",
    "    if n == 0:\n",
    "        return x, y\n",
    "    elif n >= 1:\n",
    "        return rotate(1 - y, x, n - 1)\n",
    "    else:\n",
    "        assert n < 0\n",
    "        return rotate(x, y, n=-3 * n)\n",
    "\n",
    "\n",
    "def rotate_function(f, n=1):\n",
    "    def rotated_function(x, y):\n",
    "        xr, yr = rotate(x, y, -n)\n",
    "        return f(xr, yr)\n",
    "\n",
    "    return rotated_function\n",
    "\n",
    "\n",
    "# Complex Contouring\n",
    "# ------------------------------------------------------------------------------\n",
    "\n",
    "# Customize the simple_contour function used in contour :\n",
    "# simple_contour = smart_simple_contour\n",
    "\n",
    "\n",
    "def contour(f, c, xs=[0.0, 1.0], ys=[0.0, 1.0], delta=0.01):\n",
    "    curves = []\n",
    "    nx, ny = len(xs), len(ys)\n",
    "    for i in range(nx - 1):\n",
    "        for j in range(ny - 1):\n",
    "            xmin, xmax = xs[i], xs[i + 1]\n",
    "            ymin, ymax = ys[j], ys[j + 1]\n",
    "\n",
    "            def f_cell(x, y):\n",
    "                return f(xmin + (xmax - xmin) * x, ymin + (ymax - ymin) * y)\n",
    "\n",
    "            done = set()\n",
    "            for n in [0, 1, 2, 3]:\n",
    "                if n not in done:\n",
    "                    rotated_f_cell = rotate_function(f_cell, n)\n",
    "                    x_curve_r, y_curve_r = simple_contour(rotated_f_cell, c, delta)\n",
    "                    exit = None\n",
    "                    if len(x_curve_r) >= 1:\n",
    "                        xf, yf = x_curve_r[-1], y_curve_r[-1]\n",
    "                        if xf == 0.0:\n",
    "                            exit = LEFT\n",
    "                        elif xf == 1.0:\n",
    "                            exit = RIGHT\n",
    "                        elif yf == 0.0:\n",
    "                            exit = DOWN\n",
    "                        elif yf == 1.0:\n",
    "                            exit = UP\n",
    "                    if exit is not None:  # a fully successful contour fragment\n",
    "                        exit = rotate_direction(exit, n)\n",
    "                        done.add(exit)\n",
    "\n",
    "                    x_curve, y_curve = [], []\n",
    "                    for x_r, y_r in zip(x_curve_r, y_curve_r):\n",
    "                        x, y = rotate(x_r, y_r, n=-n)\n",
    "                        x_curve.append(x)\n",
    "                        y_curve.append(y)\n",
    "                    x_curve = np.array(x_curve)\n",
    "                    y_curve = np.array(y_curve)\n",
    "                    curves.append(\n",
    "                        (xmin + (xmax - xmin) * x_curve, ymin + (ymax - ymin) * y_curve))\n",
    "    return curves"
   ]
  },
  {
   "cell_type": "code",
   "execution_count": null,
   "metadata": {},
   "outputs": [],
   "source": [
    "def g(x,y):\n",
    "    return np.exp(-x**2-y**2)\n",
    "\n",
    "def l(x,y):\n",
    "    return np.exp(-(x-1)**2-(y-1)**2)\n",
    "\n",
    "def fonction(x,y):\n",
    "    return 2*(g(x,y)-l(x,y))\n",
    "\n",
    "niveaux = [-1.5,-1.,-0.5,0.,0.5,1.,1.5]\n",
    "fig, ax = plt.subplots()\n",
    "\n",
    "for i in niveaux:\n",
    "    curves = contour(fonction,i,[-2.,-1.,0.,1.,2.,3.],[-1.,0.,1.,2.])\n",
    "    for x,y in curves:\n",
    "        ax.plot(x,y)\n"
   ]
  },
  {
   "cell_type": "markdown",
   "metadata": {},
   "source": [
    "Le résultat obtenu semble sensiblement le même. Nous pouvons donc conclure que nos fonctions fournissent le résultat attendu. Le temps d'éxécution est également raisonnable (sur un coeur cadencé à 2.4 GHz).\n",
    "\n",
    "Une piste d'amélioration de ce projet pourrait se faire sur la convergence de nos fonctions. Celle des dichotomie se fait légèrement ressentir. On pourrait remplacer celle ci par une méthode de Newton dans R2 à l'aide de la Jacobienne inversé.\n",
    "\n",
    "Voici le rendu du projet dans un graph 3D."
   ]
  },
  {
   "cell_type": "code",
   "execution_count": null,
   "metadata": {},
   "outputs": [],
   "source": [
    "from numpy import linspace, meshgrid\n",
    "from mpl_toolkits.mplot3d import Axes3D\n",
    "\n",
    "fig = plt.figure()\n",
    "ax = fig.add_subplot(111, projection='3d')\n",
    "\n",
    "x_list, y_list = linspace(-3,3,201), linspace(-2,2,101)\n",
    "X, Y = meshgrid(x_list, y_list)\n",
    "ax.plot_surface(X, Y, fonction(X,Y),cmap='viridis')\n",
    "\n",
    "niveaux = [-1.5,-1.,-0.5,0.,0.5,1.,1.5]\n",
    "\n",
    "for i in niveaux:\n",
    "    curves = contour(fonction,i,[-2.,-1.,0.,1.,2.,3.],[-1.,0.,1.,2.])\n",
    "    for x,y in curves:\n",
    "        ax.plot(x,y,i,color=\"red\", linewidth = 2.5)\n",
    "\n",
    "ax.set_title(\"Tracé de la fonction dans R2 avec lignes de niveau\")\n",
    "ax.set_xlabel('x')\n",
    "ax.set_ylabel('y')\n",
    "ax.set_zlabel('f(x,y)')"
   ]
  },
  {
   "cell_type": "code",
   "execution_count": null,
   "metadata": {},
   "outputs": [],
   "source": []
  }
 ],
 "metadata": {
  "kernelspec": {
   "display_name": "Python 3",
   "language": "python",
   "name": "python3"
  },
  "language_info": {
   "codemirror_mode": {
    "name": "ipython",
    "version": 3
   },
   "file_extension": ".py",
   "mimetype": "text/x-python",
   "name": "python",
   "nbconvert_exporter": "python",
   "pygments_lexer": "ipython3",
   "version": "3.7.3"
  }
 },
 "nbformat": 4,
 "nbformat_minor": 2
}
